{
 "cells": [
  {
   "cell_type": "code",
   "execution_count": 1,
   "metadata": {},
   "outputs": [],
   "source": [
    "import numpy as np\n",
    "import os\n",
    "import h5py"
   ]
  },
  {
   "cell_type": "code",
   "execution_count": 2,
   "metadata": {},
   "outputs": [],
   "source": [
    "def write_hdf5(data, output_filename):\n",
    "\n",
    "    x = data.astype(np.uint8)\n",
    "\n",
    "    with h5py.File(output_filename, 'w') as h:\n",
    "        h.create_dataset('data', data=x, shape=x.shape)"
   ]
  },
  {
   "cell_type": "code",
   "execution_count": 3,
   "metadata": {},
   "outputs": [],
   "source": [
    "def read_data(samples, prefix):\n",
    "    for sample in samples:\n",
    "        names = os.listdir('{}/{}/recon'.format(prefix, sample))\n",
    "        amount = len(names)\n",
    "        h5name = prefix + '_' + sample + '.h5'\n",
    "        shape_full = np.fromfile('{}/{}/recon/{}'.format(prefix, sample, names[0]), dtype=np.uint8).shape[0]\n",
    "        shape = int(shape_full**(1/2))\n",
    "\n",
    "        data_array = np.empty((amount, shape, shape))\n",
    "        print(data_array.shape)\n",
    "        print(h5name, sample, amount)\n",
    "        count = 0\n",
    "        for name in sorted(names):\n",
    "\n",
    "            part_data = np.fromfile('{}/{}/recon/{}'.format(prefix, sample, name), dtype=np.uint8)\n",
    "            part_data = part_data.reshape((shape, shape))\n",
    "            data_array[count] = part_data.copy()\n",
    "            count += 1\n",
    "        \n",
    "        write_hdf5(data_array, h5name)"
   ]
  },
  {
   "cell_type": "code",
   "execution_count": 4,
   "metadata": {},
   "outputs": [
    {
     "name": "stdout",
     "output_type": "stream",
     "text": [
      "(512, 512, 512)\n",
      "ground_data_thorn.h5 thorn 512\n",
      "(512, 512, 512)\n",
      "ground_data_pick.h5 pick 512\n",
      "(512, 512, 512)\n",
      "ground_data_pen.h5 pen 512\n"
     ]
    }
   ],
   "source": [
    "samples = os.listdir('ground_data/')\n",
    "read_data(samples, 'ground_data')"
   ]
  }
 ],
 "metadata": {
  "kernelspec": {
   "display_name": "Python 3",
   "language": "python",
   "name": "python3"
  },
  "language_info": {
   "codemirror_mode": {
    "name": "ipython",
    "version": 3
   },
   "file_extension": ".py",
   "mimetype": "text/x-python",
   "name": "python",
   "nbconvert_exporter": "python",
   "pygments_lexer": "ipython3",
   "version": "3.6.5"
  }
 },
 "nbformat": 4,
 "nbformat_minor": 2
}
