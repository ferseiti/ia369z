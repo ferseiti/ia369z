{
 "cells": [
  {
   "cell_type": "code",
   "execution_count": 2,
   "metadata": {},
   "outputs": [],
   "source": [
    "import h5py as h5\n",
    "import numpy as np\n",
    "import matplotlib.pyplot as plt"
   ]
  },
  {
   "cell_type": "markdown",
   "metadata": {},
   "source": [
    "### Dados experimentais\n",
    "\n",
    "Os dados iniciais consistem de experimentos de tomografia computadorizada, realizados na linha de luz IMX do Laboratório Nacional de Luz Síncrotron em que foram adquiridas projeções em variados ângulos. São 4 amostras de diferentes objetos.\n",
    "\n",
    "As medidas foram realizadas nos seguintes objetos:\n",
    "- Ponta de caneta esferográfica;\n",
    "- Palito de madeira;\n",
    "- Espinho de planta;\n",
    "- Rocha vulcânica.\n",
    "\n",
    "Originalmente, as medidas de cada amostra resultaram em projeções de 1001 ângulos, com cada projeção tendo dimensões de 2048 pixels de altura, 2048 pixels de largura e 16 bits de profundidade. \n",
    "\n",
    "Estas projeções são os dados brutos que, em seu estado original, acabam resultando em arquivos de aproximadamente 8 gigabytes ($(1001\\times2048\\times2048\\times2)/(1024^3)=7,8GB$). \n",
    "\n",
    "Para processar esses dados, seriam necessários recursos de memória, processamento e armazenamento impraticáveis para a disciplina, principalmente para que a reprodutibilidade seja possível para todos os colegas.\n",
    "\n",
    "Portanto, para fins de experimento e de reprodutibilidade para a disciplina, foi feita uma subamostragem dos dados brutos. Todos foram reduzidos para 501 ângulos e 512 pixels de altura e largura."
   ]
  }
 ],
 "metadata": {
  "kernelspec": {
   "display_name": "Python 3",
   "language": "python",
   "name": "python3"
  },
  "language_info": {
   "codemirror_mode": {
    "name": "ipython",
    "version": 3
   },
   "file_extension": ".py",
   "mimetype": "text/x-python",
   "name": "python",
   "nbconvert_exporter": "python",
   "pygments_lexer": "ipython3",
   "version": "3.6.5"
  }
 },
 "nbformat": 4,
 "nbformat_minor": 2
}
